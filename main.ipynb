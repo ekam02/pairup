{
 "cells": [
  {
   "metadata": {},
   "cell_type": "markdown",
   "source": [
    "A continuación, se detallan (en celdas) los pasos necesarios para la ejecución del programa que extrae y empareja los documentos mostrados en el reporte de conciliación.\n",
    "\n",
    "La próxima celda lista las dependencias para el correcto funcionamiento del programa."
   ],
   "id": "c0aefb46fe389ca3"
  },
  {
   "cell_type": "code",
   "id": "initial_id",
   "metadata": {
    "ExecuteTime": {
     "end_time": "2025-05-20T20:05:25.800652Z",
     "start_time": "2025-05-20T20:05:22.786047Z"
    }
   },
   "source": [
    "from concurrent.futures import ThreadPoolExecutor, as_completed\n",
    "from datetime import datetime\n",
    "\n",
    "import pandas as pd\n",
    "\n",
    "from config import biller_engine, jano_engine, OUTPUT_DIR, START_DATE, END_DATE, STORES, REPORT_NAME\n",
    "from models import QUERY_FCT, QUERY_JAN, PAIR_FT_JAN_SQL, PAIR_NT_JAN_SQL\n",
    "from utils import sql_executor, data_frame_slicer, identifier, row_empty, find_pair_fct_row, find_pair_jan_row, \\\n",
    "    dtype_to_str, differential_matching, calculate_date_range"
   ],
   "outputs": [],
   "execution_count": 1
  },
  {
   "metadata": {},
   "cell_type": "markdown",
   "source": [
    "El programa usa la librería `concurrent.futures` con el propósito de crear hilos de ejecución paralela. En este caso se busca reducir los tiempos al consultar de manera paralela las bases de datos del Facturador y Jano.\n",
    "\n",
    "> Las consultas realizadas sobre las bases de datos pueden ser revisadas en el módulo `models`."
   ],
   "id": "fb0de5b7b5bc4b83"
  },
  {
   "metadata": {
    "ExecuteTime": {
     "end_time": "2025-05-20T20:17:34.711901Z",
     "start_time": "2025-05-20T20:05:26.380327Z"
    }
   },
   "cell_type": "code",
   "source": [
    "with ThreadPoolExecutor(max_workers=2) as executor:\n",
    "    fct_thread = executor.submit(sql_executor, QUERY_FCT.format_map({'start_date': START_DATE, 'end_date': END_DATE, 'stores': STORES}), biller_engine)\n",
    "    jan_thread = executor.submit(sql_executor, QUERY_JAN.format_map({'start_date': START_DATE, 'end_date': END_DATE, 'stores': STORES}), jano_engine)\n",
    "\n",
    "    fct_df = fct_thread.result()\n",
    "    jan_df = jan_thread.result()"
   ],
   "id": "b74a06361c037989",
   "outputs": [],
   "execution_count": 3
  },
  {
   "metadata": {},
   "cell_type": "markdown",
   "source": "Por defecto el estilo en los nombres en las columnas para los objetos tabulares creados con `Pandas.read_sql()` son definidos por los motores de bases de datos. Para el caso de la base de datos de Jano, al ser Oracle, estos nombres quedan con un estilo *Uppercase*; pudiendo complicar el emparejamiento con el objeto tabular creado desde la base de datos del Facturador. La siguiente celda ajusta el estilo a los nombres del objeto `jan_df`, pasándolos a *Lowercase*.",
   "id": "2b44fa2fcb4bb595"
  },
  {
   "cell_type": "code",
   "id": "f4fd55eb9b525f05",
   "metadata": {
    "ExecuteTime": {
     "end_time": "2025-05-20T20:17:35.196927Z",
     "start_time": "2025-05-20T20:17:35.187543Z"
    }
   },
   "source": [
    "jan_df.columns = [attribute.lower() for attribute in jan_df.columns]"
   ],
   "outputs": [],
   "execution_count": 4
  },
  {
   "metadata": {},
   "cell_type": "markdown",
   "source": "Con el objetivo de iniciar el emparejamiento de elementos de ambos objetos tabulares, el programa agrega la columna `pair_up` en estos. La columna `pair_up` es una composición de las columnas `factura` (número del documento) y `trx` (número de la transacción).",
   "id": "735288ca70da052a"
  },
  {
   "cell_type": "code",
   "id": "c8413a62a5067e47",
   "metadata": {
    "ExecuteTime": {
     "end_time": "2025-05-20T20:17:38.225894Z",
     "start_time": "2025-05-20T20:17:35.441566Z"
    }
   },
   "source": [
    "fct_df['trx_fct'] = fct_df['trx_fct'].apply(lambda x: x.zfill(5))\n",
    "fct_df['pair_up'] = fct_df['factura_fct'] + fct_df['trx_fct']\n",
    "jan_df['trx_jan'] = jan_df['trx_jan'].apply(lambda x: x.zfill(5))\n",
    "jan_df['pair_up'] = jan_df['factura_jan'] + jan_df['trx_jan']"
   ],
   "outputs": [],
   "execution_count": 5
  },
  {
   "metadata": {},
   "cell_type": "markdown",
   "source": "La función `utils.differential_matching()` procesará los DataFrames `jan_df` y `fct_df` calculando la intercepción entre estos y las diferencias entre estos y su intercepción.",
   "id": "f4cd937260653c5a"
  },
  {
   "cell_type": "code",
   "id": "b28eb616dadb9e0",
   "metadata": {
    "ExecuteTime": {
     "end_time": "2025-05-20T20:18:17.030358Z",
     "start_time": "2025-05-20T20:17:38.275859Z"
    }
   },
   "source": [
    "pair_up_df, jan_df, fct_df = differential_matching(jan_df, fct_df)\n",
    "pair_up_df = pair_up_df.drop(['pair_up'], axis=1)\n",
    "jan_df = jan_df.drop(['pair_up'], axis=1)\n",
    "fct_df = fct_df.drop(['pair_up'], axis=1)"
   ],
   "outputs": [],
   "execution_count": 6
  },
  {
   "metadata": {},
   "cell_type": "markdown",
   "source": "El programa agrega nuevamente la columna `pair_up` en estos. La columna `pair_up` es una composición de las columnas `line`, `tienda`, `caja`, `trx` y `fecha`.",
   "id": "faf19f2ae010c9b3"
  },
  {
   "cell_type": "code",
   "id": "31060d1ba0d05075",
   "metadata": {
    "ExecuteTime": {
     "end_time": "2025-05-20T20:18:17.526465Z",
     "start_time": "2025-05-20T20:18:17.263185Z"
    }
   },
   "source": [
    "jan_df['pair_up'] = jan_df.apply(\n",
    "    lambda x: identifier(str(x['line_jan']), str(x['tienda_jan']), str(x['caja_jan']), str(x['trx_jan']), str(x['fecha_cierre'])),\n",
    "    axis=1\n",
    ")\n",
    "fct_df['pair_up'] = fct_df.apply(\n",
    "    lambda x: identifier(str(x['line_fct']), str(x['tienda_fct']), str(x['caja_fct']), str(x['trx_fct']), str(x['fecha_fct'])),\n",
    "    axis=1\n",
    ")"
   ],
   "outputs": [],
   "execution_count": 7
  },
  {
   "cell_type": "code",
   "id": "450543744c768da",
   "metadata": {
    "ExecuteTime": {
     "end_time": "2025-05-20T20:18:18.307003Z",
     "start_time": "2025-05-20T20:18:18.197715Z"
    }
   },
   "source": [
    "pair_up_2_df, jan_df, fct_df = differential_matching(jan_df, fct_df)\n",
    "pair_up_2_df = pair_up_2_df.drop(['pair_up'], axis=1)\n",
    "jan_df = jan_df.drop(['pair_up'], axis=1)\n",
    "fct_df = fct_df.drop(['pair_up'], axis=1)"
   ],
   "outputs": [],
   "execution_count": 8
  },
  {
   "cell_type": "code",
   "id": "1f81982af2fb040f",
   "metadata": {
    "ExecuteTime": {
     "end_time": "2025-05-20T20:18:21.800686Z",
     "start_time": "2025-05-20T20:18:18.360527Z"
    }
   },
   "source": [
    "fct_df = dtype_to_str(fct_df)\n",
    "jan_df = dtype_to_str(jan_df)\n",
    "\n",
    "new_set = set()\n",
    "\n",
    "for _, _row in jan_df.iterrows():\n",
    "    _re = row_empty()\n",
    "    _re.update(_row.to_dict())\n",
    "    dates = calculate_date_range(datetime.strptime(_row['fecha_cierre'], '%Y-%m-%d'), 1)\n",
    "    pair = fct_df[\n",
    "        (fct_df['tienda_fct'] == _row['tienda_jan']) &\n",
    "        (fct_df['caja_fct'] == _row['caja_jan']) &\n",
    "        (fct_df['trx_fct'] == _row['trx_jan']) &\n",
    "        (fct_df['fecha_fct'] >= dates[0]) &\n",
    "        (fct_df['fecha_fct'] <= dates[1])\n",
    "    ]\n",
    "    if not pair.empty:\n",
    "        _re.update(pair.iloc[0].to_dict())\n",
    "    else:\n",
    "        dates = calculate_date_range(datetime.strptime(_row['fecha_ini'], '%Y-%m-%d'), 1)\n",
    "        pair = fct_df[\n",
    "            (fct_df['tienda_fct'] == _row['tienda_jan']) &\n",
    "            (fct_df['caja_fct'] == _row['caja_jan']) &\n",
    "            (fct_df['trx_fct'] == _row['trx_jan']) &\n",
    "            (fct_df['fecha_fct'] >= dates[0]) &\n",
    "            (fct_df['fecha_fct'] <= dates[1])\n",
    "            ]\n",
    "        if not pair.empty:\n",
    "            _re.update(pair.iloc[0].to_dict())\n",
    "        else:\n",
    "            dates = calculate_date_range(datetime.strptime(_row['fecha_fin'], '%Y-%m-%d'), 1)\n",
    "            pair = fct_df[\n",
    "                (fct_df['tienda_fct'] == _row['tienda_jan']) &\n",
    "                (fct_df['caja_fct'] == _row['caja_jan']) &\n",
    "                (fct_df['trx_fct'] == _row['trx_jan']) &\n",
    "                (fct_df['fecha_fct'] >= dates[0]) &\n",
    "                (fct_df['fecha_fct'] <= dates[1])\n",
    "                ]\n",
    "            if not pair.empty:\n",
    "                _re.update(pair.iloc[0].to_dict())\n",
    "\n",
    "    new_set.add(tuple(_re.items()))"
   ],
   "outputs": [],
   "execution_count": 9
  },
  {
   "cell_type": "code",
   "id": "5e758f674a62fda4",
   "metadata": {
    "ExecuteTime": {
     "end_time": "2025-05-20T20:18:33.067700Z",
     "start_time": "2025-05-20T20:18:21.860686Z"
    }
   },
   "source": [
    "for _, _row in fct_df.iterrows():\n",
    "    _re = row_empty()\n",
    "    _re.update(_row.to_dict())\n",
    "    dates = calculate_date_range(datetime.strptime(_row['fecha_fct'], '%Y-%m-%d'), 1)\n",
    "    pair = jan_df[\n",
    "        (jan_df['tienda_jan'] == _row['tienda_fct']) &\n",
    "        (jan_df['caja_jan'] == _row['caja_fct']) &\n",
    "        (jan_df['trx_jan'] == _row['trx_fct']) &\n",
    "        (jan_df['fecha_cierre'] >= dates[0]) &\n",
    "        (jan_df['fecha_cierre'] <= dates[1])\n",
    "    ]\n",
    "    if not pair.empty:\n",
    "        _re.update(pair.iloc[0].to_dict())\n",
    "    else:\n",
    "        pair = jan_df[\n",
    "            (jan_df['tienda_jan'] == _row['tienda_fct']) &\n",
    "            (jan_df['caja_jan'] == _row['caja_fct']) &\n",
    "            (jan_df['trx_jan'] == _row['trx_fct']) &\n",
    "            (jan_df['fecha_ini'] >= dates[0]) &\n",
    "            (jan_df['fecha_ini'] <= dates[1])\n",
    "        ]\n",
    "        if not pair.empty:\n",
    "            _re.update(pair.iloc[0].to_dict())\n",
    "        else:\n",
    "            pair = jan_df[\n",
    "                (jan_df['tienda_jan'] == _row['tienda_fct']) &\n",
    "                (jan_df['caja_jan'] == _row['caja_fct']) &\n",
    "                (jan_df['trx_jan'] == _row['trx_fct']) &\n",
    "                (jan_df['fecha_fin'] >= dates[0]) &\n",
    "                (jan_df['fecha_fin'] <= dates[1])\n",
    "                ]\n",
    "            if not pair.empty:\n",
    "                _re.update(pair.iloc[0].to_dict())\n",
    "\n",
    "    new_set.add(tuple(_re.items()))"
   ],
   "outputs": [],
   "execution_count": 10
  },
  {
   "cell_type": "code",
   "id": "fa56fa5b17f54930",
   "metadata": {
    "ExecuteTime": {
     "end_time": "2025-05-20T20:18:33.252467Z",
     "start_time": "2025-05-20T20:18:33.121539Z"
    }
   },
   "source": [
    "pair_up_3_df = pd.DataFrame([dict(i) for i in new_set], dtype=str)\n",
    "\n",
    "pair_up_3_df, jan_df, fct_df = data_frame_slicer(pair_up_3_df)"
   ],
   "outputs": [],
   "execution_count": 11
  },
  {
   "cell_type": "code",
   "id": "5cad0037b6e1362f",
   "metadata": {
    "ExecuteTime": {
     "end_time": "2025-05-20T20:19:15.683586Z",
     "start_time": "2025-05-20T20:18:33.299897Z"
    }
   },
   "source": [
    "with ThreadPoolExecutor(max_workers=5) as executor:\n",
    "    futures = [executor.submit(find_pair_fct_row, _row) for _, _row in jan_df.iterrows()]\n",
    "\n",
    "    jan_df = pd.DataFrame([future.result() for future in as_completed(futures)])"
   ],
   "outputs": [],
   "execution_count": 12
  },
  {
   "cell_type": "code",
   "id": "14f7bada2999b39e",
   "metadata": {
    "ExecuteTime": {
     "end_time": "2025-05-20T20:20:19.983482Z",
     "start_time": "2025-05-20T20:19:15.740366Z"
    }
   },
   "source": [
    "with ThreadPoolExecutor(max_workers=5) as executor:\n",
    "    futures = []\n",
    "    for _, r in fct_df.iterrows():\n",
    "        if str(r['c_origen']) in ('5', '8', '13'):\n",
    "            futures.append(executor.submit(find_pair_jan_row, r, PAIR_FT_JAN_SQL, jano_engine))\n",
    "        elif str(r['c_origen']) in ('4', '9'):\n",
    "            futures.append(executor.submit(find_pair_jan_row, r, PAIR_NT_JAN_SQL, jano_engine))\n",
    "\n",
    "    fct_df = pd.DataFrame([future.result() for future in as_completed(futures)])"
   ],
   "outputs": [],
   "execution_count": 13
  },
  {
   "cell_type": "code",
   "id": "f2d3068f3b7cd681",
   "metadata": {
    "ExecuteTime": {
     "end_time": "2025-05-20T20:20:40.316440Z",
     "start_time": "2025-05-20T20:20:20.175015Z"
    }
   },
   "source": [
    "pair_up_df = pd.concat([pair_up_df, pair_up_2_df, pair_up_3_df, jan_df, fct_df], axis=0)\n",
    "\n",
    "del jan_df\n",
    "del fct_df\n",
    "del new_set\n",
    "del pair_up_2_df\n",
    "del pair_up_3_df"
   ],
   "outputs": [],
   "execution_count": 14
  },
  {
   "cell_type": "code",
   "id": "4ec54efe8bd8c41",
   "metadata": {
    "ExecuteTime": {
     "end_time": "2025-05-20T20:23:35.513646Z",
     "start_time": "2025-05-20T20:20:40.378447Z"
    }
   },
   "source": [
    "pair_up_df = dtype_to_str(pair_up_df)"
   ],
   "outputs": [],
   "execution_count": 15
  },
  {
   "cell_type": "code",
   "id": "7b0bc11087836ca3",
   "metadata": {
    "ExecuteTime": {
     "end_time": "2025-05-20T20:24:12.092903Z",
     "start_time": "2025-05-20T20:23:35.782688Z"
    }
   },
   "source": [
    "pair_up_df['tienda'] = pair_up_df.apply(\n",
    "    lambda x: x['tienda_desc_jan'] if x['tienda_desc_jan'] else x['tienda_desc_fct'],\n",
    "    axis=1\n",
    ")\n",
    "pair_up_df['fecha'] = pair_up_df.apply(\n",
    "    lambda x: x['fecha_cierre'] if x['fecha_cierre'] else x['fecha_fct'],\n",
    "    axis=1\n",
    ")"
   ],
   "outputs": [],
   "execution_count": 16
  },
  {
   "cell_type": "code",
   "id": "466534f5d92172fb",
   "metadata": {
    "ExecuteTime": {
     "end_time": "2025-05-20T20:25:55.979743Z",
     "start_time": "2025-05-20T20:24:12.233205Z"
    }
   },
   "source": [
    "file_name = f\"{REPORT_NAME}_{START_DATE}_{END_DATE}_{datetime.today().strftime('%Y%m%d%H%M%S')}\"\n",
    "pair_up_df.to_csv(\n",
    "    rf\"{OUTPUT_DIR}/{file_name}.zip\",\n",
    "    index=False,\n",
    "    sep=';',\n",
    "    encoding='utf-8',\n",
    "    compression={\n",
    "        'method': 'zip',\n",
    "        'archive_name': f\"{file_name}.csv\"\n",
    "    }\n",
    ")\n",
    "\n",
    "del pair_up_df"
   ],
   "outputs": [],
   "execution_count": 17
  }
 ],
 "metadata": {
  "kernelspec": {
   "display_name": "Python [conda env:base] *",
   "language": "python",
   "name": "conda-base-py"
  },
  "language_info": {
   "codemirror_mode": {
    "name": "ipython",
    "version": 3
   },
   "file_extension": ".py",
   "mimetype": "text/x-python",
   "name": "python",
   "nbconvert_exporter": "python",
   "pygments_lexer": "ipython3",
   "version": "3.12.8"
  }
 },
 "nbformat": 4,
 "nbformat_minor": 5
}
